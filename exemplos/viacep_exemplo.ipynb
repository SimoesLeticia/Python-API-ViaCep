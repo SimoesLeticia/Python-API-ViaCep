{
 "cells": [
  {
   "cell_type": "code",
   "execution_count": 1,
   "metadata": {},
   "outputs": [],
   "source": [
    "import sys\n",
    "sys.path.append('../fontes') \n",
    "import viacep_methods as ViaCep"
   ]
  },
  {
   "cell_type": "markdown",
   "metadata": {},
   "source": [
    "## Exemplo 1: O CEP existe"
   ]
  },
  {
   "cell_type": "code",
   "execution_count": 2,
   "metadata": {},
   "outputs": [
    {
     "name": "stdout",
     "output_type": "stream",
     "text": [
      "CEP         : 79002-075\n",
      "Logradouro  : Avenida Afonso Pena\n",
      "Complemento : de 2554 a 3592 - lado par\n",
      "Bairro      : Centro\n",
      "Localidade  : Campo Grande\n",
      "UF          : MS\n",
      "IBGE        : 5002704\n",
      "GIA         : \n",
      "DDD         : 67\n",
      "SIAFI       : 9051\n",
      "\n"
     ]
    }
   ],
   "source": [
    "# Consulta CEP\n",
    "localizacao = ViaCep.consultar_cep(79002075)\n",
    "\n",
    "# Saída\n",
    "ViaCep.exibir_localizacao(localizacao)"
   ]
  },
  {
   "cell_type": "markdown",
   "metadata": {},
   "source": [
    "## Exemplo 2: O CEP não existe."
   ]
  },
  {
   "cell_type": "code",
   "execution_count": 3,
   "metadata": {},
   "outputs": [
    {
     "name": "stdout",
     "output_type": "stream",
     "text": [
      "Não foi possível obter a localização. Verifique o CEP informado e tente novamente.\n"
     ]
    }
   ],
   "source": [
    "# Consulta CEP\n",
    "localizacao = ViaCep.consultar_cep(11222333)\n",
    "\n",
    "# Saída\n",
    "ViaCep.exibir_localizacao(localizacao)"
   ]
  },
  {
   "cell_type": "markdown",
   "metadata": {},
   "source": [
    "## Exemplo 3 - O CEP não é válido."
   ]
  },
  {
   "cell_type": "code",
   "execution_count": 4,
   "metadata": {},
   "outputs": [
    {
     "name": "stdout",
     "output_type": "stream",
     "text": [
      "Falha ao consultar CEP informado. Erro: 400 Client Error: Bad Request for url: https://viacep.com.br/ws/0/json/\n"
     ]
    }
   ],
   "source": [
    "# Consulta CEP\n",
    "localizacao = ViaCep.consultar_cep(000)\n",
    "\n",
    "# Saída\n",
    "ViaCep.exibir_localizacao(localizacao)"
   ]
  }
 ],
 "metadata": {
  "kernelspec": {
   "display_name": "Python 3",
   "language": "python",
   "name": "python3"
  },
  "language_info": {
   "codemirror_mode": {
    "name": "ipython",
    "version": 3
   },
   "file_extension": ".py",
   "mimetype": "text/x-python",
   "name": "python",
   "nbconvert_exporter": "python",
   "pygments_lexer": "ipython3",
   "version": "3.12.0"
  }
 },
 "nbformat": 4,
 "nbformat_minor": 2
}
